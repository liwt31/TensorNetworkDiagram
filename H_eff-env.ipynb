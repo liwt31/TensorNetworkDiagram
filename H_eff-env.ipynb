{
 "cells": [
  {
   "cell_type": "code",
   "execution_count": 1,
   "id": "66536096",
   "metadata": {},
   "outputs": [
    {
     "data": {
      "text/html": [
       "<div id=\"glowscript\" class=\"glowscript\"></div>"
      ],
      "text/plain": [
       "<IPython.core.display.HTML object>"
      ]
     },
     "metadata": {},
     "output_type": "display_data"
    },
    {
     "data": {
      "application/javascript": [
       "if (typeof Jupyter !== \"undefined\") { window.__context = { glowscript_container: $(\"#glowscript\").removeAttr(\"id\")};}else{ element.textContent = ' ';}"
      ],
      "text/plain": [
       "<IPython.core.display.Javascript object>"
      ]
     },
     "metadata": {},
     "output_type": "display_data"
    }
   ],
   "source": [
    "from vpython import box, sphere, vector, color, canvas, cylinder, rate, text"
   ]
  },
  {
   "cell_type": "code",
   "execution_count": 2,
   "id": "c0538093",
   "metadata": {},
   "outputs": [],
   "source": [
    "def rgb2vec(rgb):\n",
    "    return vector(int(rgb[:2], base=16), int(rgb[2:4], base=16), int(rgb[4:6], base=16)) / 255\n",
    "orange = rgb2vec(\"FFA500\")\n",
    "blue = rgb2vec(\"ADD8E6\")\n",
    "red = rgb2vec(\"d62728\")\n",
    "bond_color = color.gray(0.95)\n",
    "sphere_r = 0.3\n",
    "pbond_l = 0.6\n",
    "text_depth=0.1"
   ]
  },
  {
   "cell_type": "code",
   "execution_count": 3,
   "id": "54cd0eef",
   "metadata": {},
   "outputs": [
    {
     "data": {
      "text/html": [
       "<div id=\"glowscript\" class=\"glowscript\"></div>"
      ],
      "text/plain": [
       "<IPython.core.display.HTML object>"
      ]
     },
     "metadata": {},
     "output_type": "display_data"
    },
    {
     "data": {
      "application/javascript": [
       "if (typeof Jupyter !== \"undefined\") { window.__context = { glowscript_container: $(\"#glowscript\").removeAttr(\"id\")};}else{ element.textContent = ' ';}"
      ],
      "text/plain": [
       "<IPython.core.display.Javascript object>"
      ]
     },
     "metadata": {},
     "output_type": "display_data"
    }
   ],
   "source": [
    "scene = canvas(background=color.white)\n",
    "scene.lights[0].direction = vector(0.22, -0.44, 0.88)\n",
    "scene.lights[1].direction = vector(-0.88, 0.22, -0.44)"
   ]
  },
  {
   "cell_type": "code",
   "execution_count": 4,
   "id": "d04a6d2d",
   "metadata": {},
   "outputs": [
    {
     "data": {
      "application/javascript": [
       "if (typeof Jupyter !== \"undefined\") {require.undef(\"nbextensions/vpython_libraries/glow.min\");}else{element.textContent = ' ';}"
      ],
      "text/plain": [
       "<IPython.core.display.Javascript object>"
      ]
     },
     "metadata": {},
     "output_type": "display_data"
    },
    {
     "data": {
      "application/javascript": [
       "if (typeof Jupyter !== \"undefined\") {require.undef(\"nbextensions/vpython_libraries/glowcomm\");}else{element.textContent = ' ';}"
      ],
      "text/plain": [
       "<IPython.core.display.Javascript object>"
      ]
     },
     "metadata": {},
     "output_type": "display_data"
    },
    {
     "data": {
      "application/javascript": [
       "if (typeof Jupyter !== \"undefined\") {require.undef(\"nbextensions/vpython_libraries/jquery-ui.custom.min\");}else{element.textContent = ' ';}"
      ],
      "text/plain": [
       "<IPython.core.display.Javascript object>"
      ]
     },
     "metadata": {},
     "output_type": "display_data"
    },
    {
     "data": {
      "application/javascript": [
       "if (typeof Jupyter !== \"undefined\") {require([\"nbextensions/vpython_libraries/glow.min\"], function(){console.log(\"GLOW LOADED\");});}else{element.textContent = ' ';}"
      ],
      "text/plain": [
       "<IPython.core.display.Javascript object>"
      ]
     },
     "metadata": {},
     "output_type": "display_data"
    },
    {
     "data": {
      "application/javascript": [
       "if (typeof Jupyter !== \"undefined\") {require([\"nbextensions/vpython_libraries/glowcomm\"], function(){console.log(\"GLOWCOMM LOADED\");});}else{element.textContent = ' ';}"
      ],
      "text/plain": [
       "<IPython.core.display.Javascript object>"
      ]
     },
     "metadata": {},
     "output_type": "display_data"
    },
    {
     "data": {
      "application/javascript": [
       "if (typeof Jupyter !== \"undefined\") {require([\"nbextensions/vpython_libraries/jquery-ui.custom.min\"], function(){console.log(\"JQUERY LOADED\");});}else{element.textContent = ' ';}"
      ],
      "text/plain": [
       "<IPython.core.display.Javascript object>"
      ]
     },
     "metadata": {},
     "output_type": "display_data"
    }
   ],
   "source": [
    "o = vector(0, 0, 0)\n",
    "positions = []\n",
    "for x, y in [[i, 2] for i in range(4)] + [[0.5, 1], [2.5, 1], [1.5, 0]]:\n",
    "    pos = o+vector(x, y, 0)\n",
    "    positions.append(pos)\n",
    "    if (x,y) == (2.5, 1):\n",
    "        color = red\n",
    "        sphere(pos=pos, radius=sphere_r, color=color)\n",
    "        cylinder(pos=o+vector(x, y, 0), radius=0.1, axis=vector(0,0, pbond_l), color=bond_color)\n",
    "\n",
    "bonds = [\n",
    "    (positions[-1], positions[-2]-positions[-1]),\n",
    "    (positions[-2], positions[2]-positions[-2]),\n",
    "    (positions[-2], positions[3]-positions[-2]),\n",
    "]\n",
    "for pos, axis in bonds:\n",
    "    cylinder(pos=pos, radius=0.1, axis=axis, color=bond_color)\n",
    "    \n"
   ]
  },
  {
   "cell_type": "code",
   "execution_count": 5,
   "id": "95da5f7e",
   "metadata": {},
   "outputs": [],
   "source": [
    "o = vector(0, 0, 1)\n",
    "positions = []\n",
    "for x, y in [[i, 2] for i in range(4)] + [[0.5, 1], [2.5, 1], [1.5, 0]]:\n",
    "    pos = o+vector(x, y, 0)\n",
    "    positions.append(pos)\n",
    "    if (x,y) == (2.5, 1):\n",
    "        box(pos=pos, length=2*sphere_r, height=2*sphere_r, width=2*sphere_r, color=blue)\n",
    "        cylinder(pos=o+vector(x, y, 0), radius=0.1, axis=vector(0,0, pbond_l), color=bond_color)\n",
    "        cylinder(pos=o+vector(x, y, 0), radius=0.1, axis=vector(0,0, -pbond_l), color=bond_color)\n",
    "\n",
    "bonds = [\n",
    "    (positions[-1], positions[-2]-positions[-1]),\n",
    "    (positions[-2], (positions[2]-positions[-2])),\n",
    "    (positions[-2], (positions[3]-positions[-2])),\n",
    "]\n",
    "for pos, axis in bonds:\n",
    "    cylinder(pos=pos, radius=0.1, axis=axis, color=bond_color)\n",
    "    \n"
   ]
  },
  {
   "cell_type": "code",
   "execution_count": 6,
   "id": "18d8ed22",
   "metadata": {},
   "outputs": [],
   "source": [
    "o = vector(0, 0, 2)\n",
    "positions = []\n",
    "for x, y in [[i, 2] for i in range(4)] + [[0.5, 1], [2.5, 1], [1.5, 0]]:\n",
    "    pos = o+vector(x, y, 0)\n",
    "    positions.append(pos)\n",
    "\n",
    "bonds = [\n",
    "    (positions[-1], (positions[-2]-positions[-1])/2),\n",
    "    (positions[2], (positions[-2]-positions[2])/2),\n",
    "    (positions[3], (positions[-2]-positions[3])/2),\n",
    "]\n",
    "for pos, axis in bonds:\n",
    "    cylinder(pos=pos, radius=0.1, axis=axis, color=bond_color)\n",
    "    \n"
   ]
  },
  {
   "cell_type": "code",
   "execution_count": 7,
   "id": "be501167",
   "metadata": {},
   "outputs": [],
   "source": [
    "cylinder(pos=vector(3, 2, -0.5), radius=0.45, axis=vector(0, 0, 3), color=orange)\n",
    "cylinder(pos=vector(2, 2, -0.5), radius=0.45, axis=vector(0, 0, 3), color=orange)\n",
    "cylinder(pos=vector(1.5, 0, -0.5), radius=0.45, axis=vector(0, 0, 3), color=orange)"
   ]
  },
  {
   "cell_type": "code",
   "execution_count": 8,
   "id": "0a786d86",
   "metadata": {},
   "outputs": [],
   "source": [
    "scene.camera.pos = vector(1, 1, -1)\n",
    "scene.camera.axis = vector(0, 4, 0)\n",
    "scene.up = vector(0, 0, 1)"
   ]
  },
  {
   "cell_type": "code",
   "execution_count": null,
   "id": "740dc75d",
   "metadata": {},
   "outputs": [],
   "source": []
  }
 ],
 "metadata": {
  "kernelspec": {
   "display_name": "vpy",
   "language": "python",
   "name": "vpy"
  },
  "language_info": {
   "codemirror_mode": {
    "name": "ipython",
    "version": 3
   },
   "file_extension": ".py",
   "mimetype": "text/x-python",
   "name": "python",
   "nbconvert_exporter": "python",
   "pygments_lexer": "ipython3",
   "version": "3.10.13"
  }
 },
 "nbformat": 4,
 "nbformat_minor": 5
}
