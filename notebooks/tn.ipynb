{
 "cells": [
  {
   "cell_type": "code",
   "execution_count": 1,
   "id": "85e92953-23a4-4d26-a8e9-471e6fc4c2be",
   "metadata": {},
   "outputs": [
    {
     "data": {
      "text/html": [
       "<div id=\"glowscript\" class=\"glowscript\"></div>"
      ],
      "text/plain": [
       "<IPython.core.display.HTML object>"
      ]
     },
     "metadata": {},
     "output_type": "display_data"
    },
    {
     "data": {
      "application/javascript": [
       "if (typeof Jupyter !== \"undefined\") { window.__context = { glowscript_container: $(\"#glowscript\").removeAttr(\"id\")};}else{ element.textContent = ' ';}"
      ],
      "text/plain": [
       "<IPython.core.display.Javascript object>"
      ]
     },
     "metadata": {},
     "output_type": "display_data"
    }
   ],
   "source": [
    "from vpython import box, sphere, vector, color, canvas, cylinder, rate, text"
   ]
  },
  {
   "cell_type": "code",
   "execution_count": 2,
   "id": "3e619501",
   "metadata": {},
   "outputs": [],
   "source": [
    "def rgb2vec(rgb):\n",
    "    return vector(int(rgb[:2], base=16), int(rgb[2:4], base=16), int(rgb[4:6], base=16)) / 255\n",
    "orange = rgb2vec(\"FFA500\")\n",
    "blue = rgb2vec(\"ADD8E6\")\n",
    "bond_color = color.gray(0.95)\n",
    "sphere_r = 0.3\n",
    "pbond_l = 0.6\n",
    "text_depth=0.1"
   ]
  },
  {
   "cell_type": "code",
   "execution_count": 3,
   "id": "934d6061",
   "metadata": {},
   "outputs": [
    {
     "data": {
      "text/html": [
       "<div id=\"glowscript\" class=\"glowscript\"></div>"
      ],
      "text/plain": [
       "<IPython.core.display.HTML object>"
      ]
     },
     "metadata": {},
     "output_type": "display_data"
    },
    {
     "data": {
      "application/javascript": [
       "if (typeof Jupyter !== \"undefined\") { window.__context = { glowscript_container: $(\"#glowscript\").removeAttr(\"id\")};}else{ element.textContent = ' ';}"
      ],
      "text/plain": [
       "<IPython.core.display.Javascript object>"
      ]
     },
     "metadata": {},
     "output_type": "display_data"
    }
   ],
   "source": [
    "scene = canvas(background=color.white)\n",
    "scene.lights[0].direction = vector(0.22, -0.44, 0.88)\n",
    "scene.lights[1].direction = vector(-0.88, 0.22, -0.44)"
   ]
  },
  {
   "cell_type": "code",
   "execution_count": 4,
   "id": "2d79c8bd-b9a8-48c2-9dd7-a471815ad289",
   "metadata": {},
   "outputs": [
    {
     "data": {
      "application/javascript": [
       "if (typeof Jupyter !== \"undefined\") {require.undef(\"nbextensions/vpython_libraries/glow.min\");}else{element.textContent = ' ';}"
      ],
      "text/plain": [
       "<IPython.core.display.Javascript object>"
      ]
     },
     "metadata": {},
     "output_type": "display_data"
    },
    {
     "data": {
      "application/javascript": [
       "if (typeof Jupyter !== \"undefined\") {require.undef(\"nbextensions/vpython_libraries/glowcomm\");}else{element.textContent = ' ';}"
      ],
      "text/plain": [
       "<IPython.core.display.Javascript object>"
      ]
     },
     "metadata": {},
     "output_type": "display_data"
    },
    {
     "data": {
      "application/javascript": [
       "if (typeof Jupyter !== \"undefined\") {require.undef(\"nbextensions/vpython_libraries/jquery-ui.custom.min\");}else{element.textContent = ' ';}"
      ],
      "text/plain": [
       "<IPython.core.display.Javascript object>"
      ]
     },
     "metadata": {},
     "output_type": "display_data"
    },
    {
     "data": {
      "application/javascript": [
       "if (typeof Jupyter !== \"undefined\") {require([\"nbextensions/vpython_libraries/glow.min\"], function(){console.log(\"GLOW LOADED\");});}else{element.textContent = ' ';}"
      ],
      "text/plain": [
       "<IPython.core.display.Javascript object>"
      ]
     },
     "metadata": {},
     "output_type": "display_data"
    },
    {
     "data": {
      "application/javascript": [
       "if (typeof Jupyter !== \"undefined\") {require([\"nbextensions/vpython_libraries/glowcomm\"], function(){console.log(\"GLOWCOMM LOADED\");});}else{element.textContent = ' ';}"
      ],
      "text/plain": [
       "<IPython.core.display.Javascript object>"
      ]
     },
     "metadata": {},
     "output_type": "display_data"
    },
    {
     "data": {
      "application/javascript": [
       "if (typeof Jupyter !== \"undefined\") {require([\"nbextensions/vpython_libraries/jquery-ui.custom.min\"], function(){console.log(\"JQUERY LOADED\");});}else{element.textContent = ' ';}"
      ],
      "text/plain": [
       "<IPython.core.display.Javascript object>"
      ]
     },
     "metadata": {},
     "output_type": "display_data"
    }
   ],
   "source": [
    "o = vector(0, 0, 0)\n",
    "for i in range(4):\n",
    "    sphere(pos=o+vector(i, 0, 0), radius=sphere_r, color=orange)\n",
    "    cylinder(pos=o+vector(i, 0, 0), radius=0.1, axis=vector(0,0, pbond_l), color=bond_color)\n",
    "\n",
    "for i in range(3):\n",
    "    cylinder(pos=o+vector(i,0, 0), radius=0.1, axis=vector(1,0,0), color=bond_color)\n",
    "    \n",
    "t1 = text(text='MPS', pos=o+vector(1.5, 0, 1), align='center', height=0.5,up=vector(0, 0, 1),axis=vector(1, 0, 0),\n",
    "          color=color.black)"
   ]
  },
  {
   "cell_type": "code",
   "execution_count": 5,
   "id": "9540079e",
   "metadata": {},
   "outputs": [],
   "source": [
    "scene.camera.pos = o+vector(8, -4, 0)\n",
    "scene.camera.axis = vector(0, 4, 0)\n",
    "scene.up = vector(0, 0, 1)"
   ]
  },
  {
   "cell_type": "code",
   "execution_count": 6,
   "id": "00689198",
   "metadata": {},
   "outputs": [],
   "source": [
    "o = vector(5, -2, 0)\n",
    "positions = []\n",
    "for x, y in [[i, 2] for i in range(4)] + [[0.5, 1], [2.5, 1], [1.5, 0]]:\n",
    "    pos = o+vector(x, y, 0)\n",
    "    positions.append(pos)\n",
    "    sphere(pos=pos, radius=sphere_r, color=orange)\n",
    "    cylinder(pos=o+vector(x, y, 0), radius=0.1, axis=vector(0,0, pbond_l), color=bond_color)\n",
    "\n",
    "bonds = [\n",
    "    (positions[-1], positions[-2]-positions[-1]),\n",
    "    (positions[-1], positions[-3]-positions[-1]),\n",
    "    (positions[-2], positions[2]-positions[-2]),\n",
    "    (positions[-2], positions[3]-positions[-2]),\n",
    "    (positions[-3], positions[0]-positions[-3]),\n",
    "    (positions[-3], positions[1]-positions[-3]),\n",
    "]\n",
    "for pos, axis in bonds:\n",
    "    cylinder(pos=pos, radius=0.1, axis=axis, color=bond_color)\n",
    "    \n",
    "t1 = text(text='TTNS', pos=o+vector(1.5, 2, 1), align='center', height=0.5,up=vector(0, 0, 1),axis=vector(1, 0, 0),\n",
    "          color=color.black)"
   ]
  },
  {
   "cell_type": "code",
   "execution_count": 7,
   "id": "6c6a8df8",
   "metadata": {},
   "outputs": [],
   "source": [
    "o = vector(10, -3, 0)\n",
    "for i in range(4):\n",
    "    for j in range(4):\n",
    "        sphere(pos=o+vector(i, j, 0), radius=sphere_r, color=orange)\n",
    "        cylinder(pos=o+vector(i, j, 0), radius=0.1, axis=vector(0,0, pbond_l), color=bond_color)\n",
    "\n",
    "for i in range(4):\n",
    "    for j in range(4):\n",
    "        if i != 3:\n",
    "            cylinder(pos=o+vector(i,j, 0), radius=0.1, axis=vector(1,0,0), color=bond_color)\n",
    "        if j != 3:\n",
    "            cylinder(pos=o+vector(i,j, 0), radius=0.1, axis=vector(0,1, 0), color=bond_color)\n",
    "    \n",
    "t1 = text(text='PEPS', pos=o+vector(1.5, 3, 1), align='center', height=0.5,up=vector(0, 0, 1),axis=vector(1, 0, 0),\n",
    "          color=color.black)"
   ]
  },
  {
   "cell_type": "code",
   "execution_count": 8,
   "id": "6cba53e9",
   "metadata": {},
   "outputs": [],
   "source": [
    "o = vector(0, -1, -5)\n",
    "for j in range(2):\n",
    "    for i in range(4):\n",
    "        if j < 1:\n",
    "            sphere_color = blue\n",
    "        else:\n",
    "            sphere_color = orange\n",
    "            cylinder(pos=o+vector(i, j, 0), radius=0.1, axis=vector(0,0, pbond_l), color=bond_color)\n",
    "        sphere(pos=o+vector(i, j, 0), radius=sphere_r, color=sphere_color)\n",
    "        \n",
    "\n",
    "for i in range(3):\n",
    "    cylinder(pos=o+vector(i,0, 0), radius=0.1, axis=vector(1,0,0), color=bond_color)\n",
    "\n",
    "for i in range(4):\n",
    "    cylinder(pos=o+vector(i,0, 0), radius=0.1, axis=vector(0,1,0), color=bond_color)\n",
    "    \n",
    "t1 = text(text='OBB', pos=o+vector(1.5, 1, 1), align='center', height=0.5,up=vector(0, 0, 1),axis=vector(1, 0, 0),\n",
    "          color=color.black)"
   ]
  },
  {
   "cell_type": "code",
   "execution_count": 9,
   "id": "0ef67da9",
   "metadata": {},
   "outputs": [],
   "source": [
    "o = vector(5, -1, -5)\n",
    "positions = []\n",
    "for i, (x, y) in enumerate([[i, 1] for i in range(4)] + [[1.5, 0]]):\n",
    "    pos = o+vector(x, y, 0)\n",
    "    positions.append(pos)\n",
    "    if i > 3:\n",
    "        sphere_color=blue\n",
    "    else:\n",
    "        sphere_color = orange\n",
    "        cylinder(pos=o+vector(x, y, 0), radius=0.1, axis=vector(0,0, pbond_l), color=bond_color)\n",
    "    sphere(pos=pos, radius=sphere_r, color=sphere_color)\n",
    "\n",
    "bonds = [\n",
    "    (positions[-1], positions[i]-positions[-1]) for i in range(4)\n",
    "]\n",
    "for pos, axis in bonds:\n",
    "    cylinder(pos=pos, radius=0.1, axis=axis, color=bond_color)\n",
    "    \n",
    "t1 = text(text='MCTDH', pos=o+vector(1.5, 1, 1), align='center', height=0.5,up=vector(0, 0, 1),axis=vector(1, 0, 0),\n",
    "          color=color.black)"
   ]
  },
  {
   "cell_type": "code",
   "execution_count": 10,
   "id": "cc5cdf5a",
   "metadata": {},
   "outputs": [],
   "source": [
    "o = vector(10, -2, -5)\n",
    "positions = []\n",
    "for i, (x, y) in enumerate([[i, 2] for i in range(4)] + [[0.5, 1], [2.5, 1], [1.5, 0]]):\n",
    "    pos = o+vector(x, y, 0)\n",
    "    positions.append(pos)\n",
    "    if i > 3:\n",
    "        sphere_color=blue\n",
    "    else:\n",
    "        sphere_color = orange\n",
    "        cylinder(pos=o+vector(x, y, 0), radius=0.1, axis=vector(0,0, pbond_l), color=bond_color)\n",
    "    sphere(pos=pos, radius=sphere_r, color=sphere_color)\n",
    "\n",
    "bonds = [\n",
    "    (positions[-1], positions[-2]-positions[-1]),\n",
    "    (positions[-1], positions[-3]-positions[-1]),\n",
    "    (positions[-2], positions[2]-positions[-2]),\n",
    "    (positions[-2], positions[3]-positions[-2]),\n",
    "    (positions[-3], positions[0]-positions[-3]),\n",
    "    (positions[-3], positions[1]-positions[-3]),\n",
    "]\n",
    "for pos, axis in bonds:\n",
    "    cylinder(pos=pos, radius=0.1, axis=axis, color=bond_color)\n",
    "    \n",
    "t1 = text(text='ML-MCTDH', pos=o+vector(1.5, 2, 1), align='center', height=0.5,up=vector(0, 0, 1),axis=vector(1, 0, 0),\n",
    "          color=color.black)"
   ]
  },
  {
   "cell_type": "code",
   "execution_count": null,
   "id": "896e368f",
   "metadata": {},
   "outputs": [],
   "source": []
  }
 ],
 "metadata": {
  "kernelspec": {
   "display_name": "vpy",
   "language": "python",
   "name": "vpy"
  },
  "language_info": {
   "codemirror_mode": {
    "name": "ipython",
    "version": 3
   },
   "file_extension": ".py",
   "mimetype": "text/x-python",
   "name": "python",
   "nbconvert_exporter": "python",
   "pygments_lexer": "ipython3",
   "version": "3.10.13"
  }
 },
 "nbformat": 4,
 "nbformat_minor": 5
}
